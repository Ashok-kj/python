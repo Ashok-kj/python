{
 "cells": [
  {
   "cell_type": "code",
   "execution_count": null,
   "id": "cc6391ed",
   "metadata": {},
   "outputs": [],
   "source": [
    "print('hello python')"
   ]
  },
  {
   "cell_type": "code",
   "execution_count": null,
   "id": "f146349b",
   "metadata": {},
   "outputs": [],
   "source": [
    "1 + 1"
   ]
  },
  {
   "cell_type": "code",
   "execution_count": null,
   "id": "634a828e",
   "metadata": {},
   "outputs": [],
   "source": [
    "import math\n",
    "math.sqrt(4)"
   ]
  },
  {
   "cell_type": "code",
   "execution_count": null,
   "id": "c96105d4",
   "metadata": {},
   "outputs": [],
   "source": [
    "from math import sqrt"
   ]
  },
  {
   "cell_type": "code",
   "execution_count": null,
   "id": "a7b474dd",
   "metadata": {},
   "outputs": [],
   "source": [
    "import test"
   ]
  },
  {
   "cell_type": "code",
   "execution_count": null,
   "id": "af320e1f",
   "metadata": {},
   "outputs": [],
   "source": [
    "test.get_course()"
   ]
  },
  {
   "cell_type": "code",
   "execution_count": null,
   "id": "672ce393",
   "metadata": {},
   "outputs": [],
   "source": [
    "test.msg()"
   ]
  },
  {
   "cell_type": "code",
   "execution_count": null,
   "id": "de543ac3",
   "metadata": {},
   "outputs": [],
   "source": [
    "test.msg"
   ]
  },
  {
   "cell_type": "code",
   "execution_count": null,
   "id": "c1899006",
   "metadata": {},
   "outputs": [],
   "source": [
    "import test"
   ]
  },
  {
   "cell_type": "code",
   "execution_count": null,
   "id": "0b17d07c",
   "metadata": {},
   "outputs": [],
   "source": [
    "test.msg()"
   ]
  },
  {
   "cell_type": "code",
   "execution_count": null,
   "id": "afed8baa",
   "metadata": {},
   "outputs": [],
   "source": [
    "import test"
   ]
  },
  {
   "cell_type": "code",
   "execution_count": null,
   "id": "a1ca1597",
   "metadata": {},
   "outputs": [],
   "source": [
    "test.get_course()"
   ]
  },
  {
   "cell_type": "code",
   "execution_count": null,
   "id": "d12b0da9",
   "metadata": {},
   "outputs": [],
   "source": [
    "test.msg()"
   ]
  },
  {
   "cell_type": "code",
   "execution_count": null,
   "id": "6897e5bb",
   "metadata": {},
   "outputs": [],
   "source": [
    "test.msg()"
   ]
  },
  {
   "cell_type": "code",
   "execution_count": null,
   "id": "82eb2928",
   "metadata": {},
   "outputs": [],
   "source": [
    "import test\n",
    "test.get_course()\n",
    "test.msg()"
   ]
  },
  {
   "cell_type": "code",
   "execution_count": null,
   "id": "0ede1ca6",
   "metadata": {},
   "outputs": [],
   "source": [
    "import test"
   ]
  },
  {
   "cell_type": "code",
   "execution_count": null,
   "id": "291345ea",
   "metadata": {},
   "outputs": [],
   "source": [
    "test.msg()"
   ]
  },
  {
   "cell_type": "code",
   "execution_count": null,
   "id": "98b4bf1a",
   "metadata": {},
   "outputs": [],
   "source": [
    "test.mag()"
   ]
  },
  {
   "cell_type": "code",
   "execution_count": null,
   "id": "a393499c",
   "metadata": {},
   "outputs": [],
   "source": [
    "test.get_course()"
   ]
  },
  {
   "cell_type": "code",
   "execution_count": null,
   "id": "3b7f36dc",
   "metadata": {},
   "outputs": [],
   "source": [
    "\" I'm in meditative state\""
   ]
  },
  {
   "cell_type": "code",
   "execution_count": null,
   "id": "5bd2b2a7",
   "metadata": {},
   "outputs": [],
   "source": [
    "len(\"hello there, GM\")"
   ]
  },
  {
   "cell_type": "code",
   "execution_count": null,
   "id": "a59a2536",
   "metadata": {},
   "outputs": [],
   "source": [
    "mystring = \"hello world\""
   ]
  },
  {
   "cell_type": "code",
   "execution_count": null,
   "id": "907ea78b",
   "metadata": {},
   "outputs": [],
   "source": [
    "mystring[8]"
   ]
  },
  {
   "cell_type": "code",
   "execution_count": null,
   "id": "a18c1046",
   "metadata": {},
   "outputs": [],
   "source": [
    "mystring[-2]"
   ]
  },
  {
   "cell_type": "code",
   "execution_count": null,
   "id": "d4829a2e",
   "metadata": {},
   "outputs": [],
   "source": [
    "mystring[-1]"
   ]
  },
  {
   "cell_type": "code",
   "execution_count": null,
   "id": "fc7d261e",
   "metadata": {},
   "outputs": [],
   "source": [
    "mystring = 'abcdefghijk'"
   ]
  },
  {
   "cell_type": "code",
   "execution_count": null,
   "id": "a2085748",
   "metadata": {},
   "outputs": [],
   "source": [
    "mystring[2:]"
   ]
  },
  {
   "cell_type": "code",
   "execution_count": null,
   "id": "81ce5c0e",
   "metadata": {},
   "outputs": [],
   "source": [
    "mystring[:3]"
   ]
  },
  {
   "cell_type": "code",
   "execution_count": null,
   "id": "d7fd8cc3",
   "metadata": {},
   "outputs": [],
   "source": [
    "mystring[3:6]"
   ]
  },
  {
   "cell_type": "code",
   "execution_count": null,
   "id": "ad700ac3",
   "metadata": {},
   "outputs": [],
   "source": [
    "mystring[-1]"
   ]
  },
  {
   "cell_type": "code",
   "execution_count": null,
   "id": "690ecd5c",
   "metadata": {},
   "outputs": [],
   "source": [
    "mystring[::]"
   ]
  },
  {
   "cell_type": "code",
   "execution_count": null,
   "id": "40cdca2d",
   "metadata": {},
   "outputs": [],
   "source": [
    "mystring[::3]"
   ]
  },
  {
   "cell_type": "code",
   "execution_count": null,
   "id": "c3eb2c30",
   "metadata": {},
   "outputs": [],
   "source": [
    "mystring[::-1]"
   ]
  },
  {
   "cell_type": "code",
   "execution_count": null,
   "id": "ef0f5dff",
   "metadata": {},
   "outputs": [],
   "source": [
    "name = \"sam\""
   ]
  },
  {
   "cell_type": "code",
   "execution_count": null,
   "id": "675da5cd",
   "metadata": {},
   "outputs": [],
   "source": [
    "#name[0] = 'p'"
   ]
  },
  {
   "cell_type": "code",
   "execution_count": null,
   "id": "96a26916",
   "metadata": {},
   "outputs": [],
   "source": [
    "name[1:]"
   ]
  },
  {
   "cell_type": "code",
   "execution_count": null,
   "id": "3b1fa1d5",
   "metadata": {},
   "outputs": [],
   "source": [
    "'p' + name[1:]"
   ]
  },
  {
   "cell_type": "code",
   "execution_count": null,
   "id": "5164085f",
   "metadata": {},
   "outputs": [],
   "source": [
    "letter = 'a'"
   ]
  },
  {
   "cell_type": "code",
   "execution_count": null,
   "id": "a72eae52",
   "metadata": {},
   "outputs": [],
   "source": [
    "letter * 10"
   ]
  },
  {
   "cell_type": "code",
   "execution_count": null,
   "id": "a8d2096b",
   "metadata": {},
   "outputs": [],
   "source": [
    "2 + 3"
   ]
  },
  {
   "cell_type": "code",
   "execution_count": null,
   "id": "ba0a6c06",
   "metadata": {},
   "outputs": [],
   "source": [
    "'2' + '3'"
   ]
  },
  {
   "cell_type": "code",
   "execution_count": null,
   "id": "156d3512",
   "metadata": {},
   "outputs": [],
   "source": [
    "x = \"hello world\""
   ]
  },
  {
   "cell_type": "code",
   "execution_count": null,
   "id": "4196f093",
   "metadata": {},
   "outputs": [],
   "source": [
    "x.upper()"
   ]
  },
  {
   "cell_type": "code",
   "execution_count": null,
   "id": "872974c3",
   "metadata": {},
   "outputs": [],
   "source": [
    "x.upper"
   ]
  },
  {
   "cell_type": "code",
   "execution_count": null,
   "id": "95ca1576",
   "metadata": {},
   "outputs": [],
   "source": [
    "x.lower()"
   ]
  },
  {
   "cell_type": "code",
   "execution_count": null,
   "id": "99217e87",
   "metadata": {},
   "outputs": [],
   "source": [
    "x.split()"
   ]
  },
  {
   "cell_type": "code",
   "execution_count": null,
   "id": "4728af13",
   "metadata": {},
   "outputs": [],
   "source": [
    "x = \"hi this is a string\""
   ]
  },
  {
   "cell_type": "code",
   "execution_count": null,
   "id": "a5d2cb11",
   "metadata": {},
   "outputs": [],
   "source": [
    "x.split('i')"
   ]
  },
  {
   "cell_type": "code",
   "execution_count": null,
   "id": "2e6301bb",
   "metadata": {},
   "outputs": [],
   "source": [
    "x.split('a')"
   ]
  },
  {
   "cell_type": "code",
   "execution_count": null,
   "id": "0b81166a",
   "metadata": {},
   "outputs": [],
   "source": [
    "print('This is a string {}'.format('insert'))"
   ]
  },
  {
   "cell_type": "code",
   "execution_count": null,
   "id": "aee8440b",
   "metadata": {},
   "outputs": [],
   "source": [
    "print('the {} {} {}'.format('fox', 'quick', 'brown'))"
   ]
  },
  {
   "cell_type": "code",
   "execution_count": null,
   "id": "b515165c",
   "metadata": {},
   "outputs": [],
   "source": [
    "print('the {2} {1} {0}'.format('fox', 'brown' ,'quick'))"
   ]
  },
  {
   "cell_type": "code",
   "execution_count": null,
   "id": "25151042",
   "metadata": {},
   "outputs": [],
   "source": [
    "print('the {q} {b} {f}'.format(f='fox', b='brown', q='quick'))"
   ]
  },
  {
   "cell_type": "markdown",
   "id": "4586d3d3",
   "metadata": {},
   "source": [
    "Nov 27th 2021"
   ]
  },
  {
   "cell_type": "code",
   "execution_count": null,
   "id": "cff92010",
   "metadata": {},
   "outputs": [],
   "source": [
    "f = 6/7"
   ]
  },
  {
   "cell_type": "code",
   "execution_count": null,
   "id": "ec972c41",
   "metadata": {},
   "outputs": [],
   "source": [
    "print(f)"
   ]
  },
  {
   "cell_type": "code",
   "execution_count": null,
   "id": "22549d73",
   "metadata": {},
   "outputs": [],
   "source": [
    "a = open(\"test.txt\", 'r')"
   ]
  },
  {
   "cell_type": "code",
   "execution_count": null,
   "id": "53524ea1",
   "metadata": {},
   "outputs": [],
   "source": [
    "i = 5/0"
   ]
  },
  {
   "cell_type": "code",
   "execution_count": null,
   "id": "313b65f3",
   "metadata": {},
   "outputs": [],
   "source": [
    "try:\n",
    "    i = 5/2\n",
    "except ArithmeticError as e :\n",
    "    print(\"exception :\",e)\n",
    "else:\n",
    "    print(\"successfully executed\", i)"
   ]
  },
  {
   "cell_type": "code",
   "execution_count": null,
   "id": "ec609dd7",
   "metadata": {},
   "outputs": [],
   "source": [
    "import this"
   ]
  },
  {
   "cell_type": "markdown",
   "id": "0da038ea",
   "metadata": {},
   "source": [
    "help ------> shift + tab"
   ]
  },
  {
   "cell_type": "code",
   "execution_count": null,
   "id": "6c7f78b5",
   "metadata": {},
   "outputs": [],
   "source": [
    "print('ashok')"
   ]
  },
  {
   "cell_type": "code",
   "execution_count": null,
   "id": "28bd8ef1",
   "metadata": {},
   "outputs": [],
   "source": [
    "\"\"\"/*\n",
    "hdhasjdsa\n",
    "jkasjk\n",
    "jdkasjkd\n",
    "ank\n",
    "jak\n",
    "*/\"\"\""
   ]
  },
  {
   "cell_type": "code",
   "execution_count": null,
   "id": "d5a9c71c",
   "metadata": {},
   "outputs": [],
   "source": [
    "a = 10\n",
    "a"
   ]
  },
  {
   "cell_type": "code",
   "execution_count": null,
   "id": "2ec91b35",
   "metadata": {},
   "outputs": [],
   "source": [
    "b = 20"
   ]
  },
  {
   "cell_type": "code",
   "execution_count": null,
   "id": "5e7ca7f7",
   "metadata": {},
   "outputs": [],
   "source": [
    "b"
   ]
  },
  {
   "cell_type": "code",
   "execution_count": null,
   "id": "3194b155",
   "metadata": {},
   "outputs": [],
   "source": [
    "type(a)"
   ]
  },
  {
   "cell_type": "code",
   "execution_count": null,
   "id": "4cea8e47",
   "metadata": {},
   "outputs": [],
   "source": [
    "f = \"abc\""
   ]
  },
  {
   "cell_type": "code",
   "execution_count": null,
   "id": "20a8fc92",
   "metadata": {},
   "outputs": [],
   "source": [
    "type(f)"
   ]
  },
  {
   "cell_type": "code",
   "execution_count": null,
   "id": "d815befa",
   "metadata": {},
   "outputs": [],
   "source": [
    "f = .56"
   ]
  },
  {
   "cell_type": "code",
   "execution_count": null,
   "id": "c6b77702",
   "metadata": {},
   "outputs": [],
   "source": [
    "type(f)"
   ]
  },
  {
   "cell_type": "code",
   "execution_count": null,
   "id": "c6f81442",
   "metadata": {},
   "outputs": [],
   "source": [
    "f"
   ]
  },
  {
   "cell_type": "code",
   "execution_count": null,
   "id": "df53d348",
   "metadata": {},
   "outputs": [],
   "source": [
    "a, b , s = 34, 5.67, \"string var\""
   ]
  },
  {
   "cell_type": "code",
   "execution_count": null,
   "id": "38c8c689",
   "metadata": {},
   "outputs": [],
   "source": [
    "print(a, b , s)"
   ]
  },
  {
   "cell_type": "code",
   "execution_count": null,
   "id": "59fd9c38",
   "metadata": {},
   "outputs": [],
   "source": [
    "a, b, s"
   ]
  },
  {
   "cell_type": "code",
   "execution_count": null,
   "id": "9c9e5f4b",
   "metadata": {},
   "outputs": [],
   "source": [
    "b2 = 8.988"
   ]
  },
  {
   "cell_type": "code",
   "execution_count": null,
   "id": "33811990",
   "metadata": {},
   "outputs": [],
   "source": [
    "b2"
   ]
  },
  {
   "cell_type": "code",
   "execution_count": null,
   "id": "06c72c5c",
   "metadata": {},
   "outputs": [],
   "source": [
    "print(True+True+False+True+True)\n",
    "print(False + True - True)"
   ]
  },
  {
   "cell_type": "code",
   "execution_count": null,
   "id": "3bc95632",
   "metadata": {},
   "outputs": [],
   "source": [
    "True/False"
   ]
  },
  {
   "cell_type": "code",
   "execution_count": null,
   "id": "8c6df40d",
   "metadata": {},
   "outputs": [],
   "source": [
    "import numpy\n",
    "True/False"
   ]
  },
  {
   "cell_type": "code",
   "execution_count": null,
   "id": "6ed5b9af",
   "metadata": {},
   "outputs": [],
   "source": [
    "True/False"
   ]
  },
  {
   "cell_type": "code",
   "execution_count": null,
   "id": "ad201560",
   "metadata": {},
   "outputs": [],
   "source": [
    "n = 45 + 16j\n",
    "n\n",
    "n.real\n",
    "n.imag"
   ]
  },
  {
   "cell_type": "code",
   "execution_count": null,
   "id": "2b0c86ac",
   "metadata": {},
   "outputs": [],
   "source": [
    "type(n)"
   ]
  },
  {
   "cell_type": "code",
   "execution_count": null,
   "id": "7fb26dc9",
   "metadata": {},
   "outputs": [],
   "source": [
    "1 + \"Ash\""
   ]
  },
  {
   "cell_type": "code",
   "execution_count": null,
   "id": "765b919b",
   "metadata": {},
   "outputs": [],
   "source": [
    "'1' + 'Ashok'"
   ]
  },
  {
   "cell_type": "code",
   "execution_count": null,
   "id": "6d17a429",
   "metadata": {},
   "outputs": [],
   "source": [
    "7 + 2.67431223"
   ]
  },
  {
   "cell_type": "code",
   "execution_count": null,
   "id": "a6b23bc4",
   "metadata": {},
   "outputs": [],
   "source": [
    "\"ash\" * 3"
   ]
  },
  {
   "cell_type": "code",
   "execution_count": null,
   "id": "0880f4e8",
   "metadata": {},
   "outputs": [],
   "source": [
    "\"ashok\" **3"
   ]
  },
  {
   "cell_type": "code",
   "execution_count": null,
   "id": "868b8749",
   "metadata": {},
   "outputs": [],
   "source": [
    "\"ash\" + \" ash\" + \" ash\""
   ]
  },
  {
   "cell_type": "code",
   "execution_count": null,
   "id": "6cdd88d0",
   "metadata": {},
   "outputs": [],
   "source": [
    "\"ash\" * \"ash\""
   ]
  },
  {
   "cell_type": "code",
   "execution_count": null,
   "id": "20474c8e",
   "metadata": {},
   "outputs": [],
   "source": [
    "a = input()"
   ]
  },
  {
   "cell_type": "code",
   "execution_count": null,
   "id": "1c6548e9",
   "metadata": {},
   "outputs": [],
   "source": [
    "a = input(\"enter the int : \")"
   ]
  },
  {
   "cell_type": "code",
   "execution_count": null,
   "id": "cf2566a6",
   "metadata": {},
   "outputs": [],
   "source": [
    "a"
   ]
  },
  {
   "cell_type": "code",
   "execution_count": null,
   "id": "70f2e27e",
   "metadata": {},
   "outputs": [],
   "source": [
    "type (a)"
   ]
  },
  {
   "cell_type": "code",
   "execution_count": null,
   "id": "af8bc79c",
   "metadata": {},
   "outputs": [],
   "source": [
    "a = input (\"enter the int a \") # or a = int(input (\"enter the int a \"))\n",
    "b = input (\"enter the int b \")\n",
    "c = input (\"enter the int c \")\n",
    "print(a, b , c)\n",
    "x = (int (a) + int (b))/ int(c)\n",
    "print (\"x is \", x)\n",
    "y = x + 3 + 9j\n",
    "print(\"y is \", y)\n",
    "z = str(y) + \"ashok\"\n",
    "print(\"z is :\", z)"
   ]
  },
  {
   "cell_type": "code",
   "execution_count": null,
   "id": "d203814d",
   "metadata": {},
   "outputs": [],
   "source": [
    "a = int(input(\" enter number less than 34 : \"))\n",
    "if a > 34 :\n",
    "    print (\"invalid entry\")\n",
    "if a < 34 : \n",
    "    pass"
   ]
  },
  {
   "cell_type": "code",
   "execution_count": null,
   "id": "c0c432f2",
   "metadata": {},
   "outputs": [],
   "source": [
    "a = int (input(\" enter number less than 34 : \"))\n",
    "if a > 34 :\n",
    "    print (\"invalid entry\")\n",
    "if a < 34 : \n",
    "    pass"
   ]
  },
  {
   "cell_type": "code",
   "execution_count": null,
   "id": "271397e6",
   "metadata": {},
   "outputs": [],
   "source": [
    "a = int (input(\" enter number less than 34 : \"))\n",
    "if a > 34 :\n",
    "    print (\"invalid entry\")\n",
    "elif a < 0:\n",
    "    print(\"value is less than 0\")\n",
    "else :\n",
    "    pass"
   ]
  },
  {
   "cell_type": "code",
   "execution_count": null,
   "id": "8af626c3",
   "metadata": {},
   "outputs": [],
   "source": [
    "a = 10\n",
    "b = 20\n",
    "\n",
    "if a == 10 and b == 20 :\n",
    "    print"
   ]
  },
  {
   "cell_type": "code",
   "execution_count": null,
   "id": "bf2a1a6c",
   "metadata": {},
   "outputs": [],
   "source": [
    "a = input(\"enter first name :\")\n",
    "b = input(\"enter last name :\")\n",
    "\n",
    "print (a +' '+ b)"
   ]
  },
  {
   "cell_type": "code",
   "execution_count": null,
   "id": "387daba0",
   "metadata": {},
   "outputs": [],
   "source": [
    "import random \n",
    "init_speed = 0\n",
    "final_speed = 100\n",
    "\n",
    "while init_speed < final_speed :\n",
    "    print(\"now speed is :\", init_speed)\n",
    "    a = random.randint(1,10)\n",
    "    #a %=10;\n",
    "    init_speed += a"
   ]
  },
  {
   "cell_type": "code",
   "execution_count": null,
   "id": "916aa8bd",
   "metadata": {},
   "outputs": [],
   "source": [
    "notes = 5\n",
    "i = 1\n",
    "while i < notes :\n",
    "    print (i)\n",
    "    i +=1\n",
    "else :\n",
    "    print(\" i is greater then 5\")"
   ]
  },
  {
   "cell_type": "code",
   "execution_count": null,
   "id": "c11b29cb",
   "metadata": {},
   "outputs": [],
   "source": [
    "s = \"My name is Ashok!\"\n",
    "print(s[3:12])\n",
    "print(s[::-1])                  # reverse string\n",
    "print(s[3:10:2])\n",
    "print(s[10:2:-1])\n",
    "print(s[10:2:-2])\n",
    "print(s[2:-6])                 # -6 traverse from end to start\n",
    "print(s[-1])                   # last char of string s\n",
    "s"
   ]
  },
  {
   "cell_type": "code",
   "execution_count": null,
   "id": "3eb6d0e4",
   "metadata": {},
   "outputs": [],
   "source": [
    "for i in s :\n",
    "    if i == 's':\n",
    "        print(\"Got s char\")\n",
    "    print(i)\n",
    "else :\n",
    "    print(\"end of for loop\")"
   ]
  },
  {
   "cell_type": "code",
   "execution_count": null,
   "id": "a3424a62",
   "metadata": {},
   "outputs": [],
   "source": [
    "s = 'ineuron'\n",
    "ss = '  '\n",
    "for i in range(len(s)):\n",
    "    if s[i] == 'n':\n",
    "        continue\n",
    "    else :\n",
    "        ss += s[i]\n",
    "ss"
   ]
  },
  {
   "cell_type": "code",
   "execution_count": null,
   "id": "0729ee80",
   "metadata": {},
   "outputs": [],
   "source": [
    "n = 7\n",
    "for i in range (0,n):\n",
    "    for j in range(0, i+1):\n",
    "        print(\" * \", end = \"\")\n",
    "    print('\\r')"
   ]
  },
  {
   "cell_type": "code",
   "execution_count": null,
   "id": "0f72460b",
   "metadata": {},
   "outputs": [],
   "source": [
    "n = 7\n",
    "for i in range (n, 0, -1):\n",
    "    for j in range (n-i) :\n",
    "        print(' ', end='')\n",
    "    for j in range (2*i -1):\n",
    "        print('*', end='')\n",
    "    print()"
   ]
  },
  {
   "cell_type": "code",
   "execution_count": null,
   "id": "5717438e",
   "metadata": {},
   "outputs": [],
   "source": [
    "n = 5\n",
    "for i in range (0, n, +1) :\n",
    "    for j in range (n+i):\n",
    "        print(' ', end='')\n",
    "    for j in range (2*i+1):\n",
    "        print('*', end='')\n",
    "\n",
    "    print()"
   ]
  },
  {
   "cell_type": "code",
   "execution_count": null,
   "id": "23bc8389",
   "metadata": {},
   "outputs": [],
   "source": [
    "n = 5\n",
    "for i in range (n+1):\n",
    "    print(\"* \"* i)"
   ]
  },
  {
   "cell_type": "code",
   "execution_count": null,
   "id": "cf5e1a3c",
   "metadata": {},
   "outputs": [],
   "source": [
    "n = 5\n",
    "for i in range (n+1) :\n",
    "    print(\"* \"*n)"
   ]
  },
  {
   "cell_type": "code",
   "execution_count": null,
   "id": "c20243d1",
   "metadata": {},
   "outputs": [],
   "source": [
    "n = 5\n",
    "for i in range (1, n + 1):\n",
    "    print(' '*(n -i) + '*'*i)"
   ]
  },
  {
   "cell_type": "code",
   "execution_count": null,
   "id": "fa64241e",
   "metadata": {},
   "outputs": [],
   "source": [
    "n = 5\n",
    "for i in range (1, n + 1):\n",
    "    print(' '*(n -i) + '* '*i)"
   ]
  },
  {
   "cell_type": "code",
   "execution_count": null,
   "id": "33d6856f",
   "metadata": {},
   "outputs": [],
   "source": [
    "n = 5\n",
    "for i in range (1, n+1):\n",
    "    print (\" \"*(n-i) + \"* \"*i)\n",
    "for i in range (n, 0, -1):        #for i in range (n-1, 0, -1):\n",
    "    print(\" \"*(n - i)+ \"* \"*i)"
   ]
  },
  {
   "cell_type": "code",
   "execution_count": 20,
   "id": "be6144eb",
   "metadata": {},
   "outputs": [
    {
     "name": "stdout",
     "output_type": "stream",
     "text": [
      "115"
     ]
    }
   ],
   "source": [
    "print(j , end='')\n",
    "print(i , end='')"
   ]
  },
  {
   "cell_type": "code",
   "execution_count": 28,
   "id": "dde6f335",
   "metadata": {},
   "outputs": [
    {
     "name": "stdout",
     "output_type": "stream",
     "text": [
      "    *\n",
      "   ***\n",
      "  *****\n",
      " *******\n",
      "*********\n",
      " end of the program\n"
     ]
    }
   ],
   "source": [
    "n = 5\n",
    "i = 0\n",
    "j = 1\n",
    "while i < n :\n",
    "    print (' '* (n-i-1) + '*' * j)\n",
    "    i = i + 1\n",
    "    j = j + 2\n",
    "\"\"\"/* other solution \n",
    "    print(' '* (n-i-1), end='')\n",
    "    i = i + 1\n",
    "    print(\"*\"* j)\n",
    "    j = j + 2     \n",
    "*/\"\"\"\n",
    "print (\" end of the program\")"
   ]
  },
  {
   "cell_type": "code",
   "execution_count": 35,
   "id": "a4692387",
   "metadata": {},
   "outputs": [
    {
     "name": "stdout",
     "output_type": "stream",
     "text": [
      "['ashok', 16712282122323, 'ashj jhsdjask jkASJAH AJSHas']\n",
      "ashok\n",
      "16712282122323\n",
      "ashj jhsdjask jkASJAH AJSHas\n"
     ]
    }
   ],
   "source": [
    "name = 'ashok'\n",
    "ph_no = 16712282122323\n",
    "addr = 'ashj jhsdjask jkASJAH AJSHas'\n",
    "l = [name, ph_no, addr]\n",
    "print(l)\n",
    "print(l[0])\n",
    "print(l[1])\n",
    "print(l[2])"
   ]
  },
  {
   "cell_type": "code",
   "execution_count": 37,
   "id": "df92e7bd",
   "metadata": {},
   "outputs": [
    {
     "name": "stdout",
     "output_type": "stream",
     "text": [
      "ashok\n",
      "27893434832\n",
      "gaas jsdkhsh shdjsh\n"
     ]
    }
   ],
   "source": [
    "name, ph_no, addr = 'ashok', 27893434832, 'gaas jsdkhsh shdjsh'\n",
    "print (name)\n",
    "print(ph_no)\n",
    "print(addr)"
   ]
  },
  {
   "cell_type": "code",
   "execution_count": 39,
   "id": "f078e34c",
   "metadata": {},
   "outputs": [
    {
     "data": {
      "text/plain": [
       "list"
      ]
     },
     "execution_count": 39,
     "metadata": {},
     "output_type": "execute_result"
    }
   ],
   "source": [
    "l1 = []\n",
    "type(l1)"
   ]
  },
  {
   "cell_type": "code",
   "execution_count": 1,
   "id": "993edecf",
   "metadata": {},
   "outputs": [
    {
     "name": "stdout",
     "output_type": "stream",
     "text": [
      "<class 'list'>\n",
      "[]\n"
     ]
    }
   ],
   "source": [
    "l2 = list()\n",
    "print(type(l2))\n",
    "print(l2)"
   ]
  },
  {
   "cell_type": "code",
   "execution_count": 3,
   "id": "d65ac59d",
   "metadata": {},
   "outputs": [],
   "source": [
    "l = [\"ashok\", 23.23, 34, [46,78.1, \"sublist\"], True]"
   ]
  },
  {
   "cell_type": "code",
   "execution_count": 5,
   "id": "f66f5357",
   "metadata": {},
   "outputs": [
    {
     "name": "stdout",
     "output_type": "stream",
     "text": [
      "ashok\n",
      "23.23\n",
      "34\n",
      "[46, 78.1, 'sublist']\n",
      "True\n"
     ]
    }
   ],
   "source": [
    "for i in l:\n",
    "    print(i)"
   ]
  },
  {
   "cell_type": "code",
   "execution_count": 7,
   "id": "735a5adf",
   "metadata": {},
   "outputs": [
    {
     "name": "stdout",
     "output_type": "stream",
     "text": [
      "[True, [46, 78.1, 'sublist'], 34, 23.23, 'ashok']\n"
     ]
    }
   ],
   "source": [
    "print(l[::-1])"
   ]
  },
  {
   "cell_type": "code",
   "execution_count": 12,
   "id": "79ef95a0",
   "metadata": {},
   "outputs": [
    {
     "name": "stdout",
     "output_type": "stream",
     "text": [
      "this is not a list: ashok\n",
      "this is not a list: 23.23\n",
      "this is not a list: 34\n",
      "this is list: [46, 78.1, 'sublist']\n",
      "this is not a list: True\n"
     ]
    }
   ],
   "source": [
    "for i in l:\n",
    "    if type(i) == list:\n",
    "        print(\"this is list:\",i)\n",
    "    else:\n",
    "        print(\"this is not a list:\", i)"
   ]
  },
  {
   "cell_type": "code",
   "execution_count": 15,
   "id": "6d0f0c4d",
   "metadata": {},
   "outputs": [
    {
     "name": "stdout",
     "output_type": "stream",
     "text": [
      "5\n",
      "True\n",
      "['ashok', 23.23, 34, [46, 78.1, 'sublist'], True, 'ashok', 23.23, 34, [46, 78.1, 'sublist'], True]\n"
     ]
    },
    {
     "data": {
      "text/plain": [
       "['ashok',\n",
       " 23.23,\n",
       " 34,\n",
       " [46, 78.1, 'sublist'],\n",
       " True,\n",
       " 'wisdom',\n",
       " 'humble',\n",
       " 'meditate']"
      ]
     },
     "execution_count": 15,
     "metadata": {},
     "output_type": "execute_result"
    }
   ],
   "source": [
    "print(len (l))\n",
    "print(True in l)\n",
    "print(l * 2)\n",
    "l1 =[\"wisdom\", \"humble\", \"meditate\"]\n",
    "l + l1"
   ]
  },
  {
   "cell_type": "code",
   "execution_count": 17,
   "id": "596be327",
   "metadata": {},
   "outputs": [],
   "source": [
    "l.append([1, 6+5j, \"ash\", 8^9 ])"
   ]
  },
  {
   "cell_type": "code",
   "execution_count": 19,
   "id": "e064f8cc",
   "metadata": {},
   "outputs": [
    {
     "data": {
      "text/plain": [
       "['ashok',\n",
       " 23.23,\n",
       " 34,\n",
       " [46, 78.1, 'sublist'],\n",
       " True,\n",
       " [1, (6+5j), 'ash', 1],\n",
       " [1, (6+5j), 'ash', 1]]"
      ]
     },
     "execution_count": 19,
     "metadata": {},
     "output_type": "execute_result"
    }
   ],
   "source": [
    "l"
   ]
  },
  {
   "cell_type": "code",
   "execution_count": 21,
   "id": "986a707a",
   "metadata": {},
   "outputs": [
    {
     "data": {
      "text/plain": [
       "[1, 2, 3, 'ineuron', 4, 'last', 5]"
      ]
     },
     "execution_count": 21,
     "metadata": {},
     "output_type": "execute_result"
    }
   ],
   "source": [
    "k = [1,2,3,4,5]\n",
    "k.insert(3, \"ineuron\")\n",
    "k.insert(-1, \"last\")\n",
    "k"
   ]
  },
  {
   "cell_type": "code",
   "execution_count": 23,
   "id": "804480f2",
   "metadata": {},
   "outputs": [
    {
     "data": {
      "text/plain": [
       "[1, 2, 3, 'ineuron', 4, 'last', 'last', 'last2', 'last', 'last2', 5]"
      ]
     },
     "execution_count": 23,
     "metadata": {},
     "output_type": "execute_result"
    }
   ],
   "source": [
    "k.insert(-1, \"last\")\n",
    "k.insert(-1, \"last2\")\n",
    "k"
   ]
  },
  {
   "cell_type": "code",
   "execution_count": 25,
   "id": "dfcf1e86",
   "metadata": {},
   "outputs": [
    {
     "data": {
      "text/plain": [
       "3"
      ]
     },
     "execution_count": 25,
     "metadata": {},
     "output_type": "execute_result"
    }
   ],
   "source": [
    "k.count(\"last\")\n"
   ]
  },
  {
   "cell_type": "code",
   "execution_count": 27,
   "id": "a07e25f1",
   "metadata": {},
   "outputs": [],
   "source": [
    "k.append(\"ashok\")"
   ]
  },
  {
   "cell_type": "code",
   "execution_count": 30,
   "id": "bdd13cfc",
   "metadata": {},
   "outputs": [
    {
     "data": {
      "text/plain": [
       "[1,\n",
       " 2,\n",
       " 3,\n",
       " 'ineuron',\n",
       " 4,\n",
       " 'last',\n",
       " 'last',\n",
       " 'last2',\n",
       " 'last',\n",
       " 'last2',\n",
       " 5,\n",
       " 'ashok',\n",
       " 'ashok',\n",
       " 'a',\n",
       " 's',\n",
       " 'h',\n",
       " 'o',\n",
       " 'k',\n",
       " 'a',\n",
       " 's',\n",
       " 'h',\n",
       " 'o',\n",
       " 'k',\n",
       " 'a',\n",
       " 's',\n",
       " 'h',\n",
       " 'o',\n",
       " 'k']"
      ]
     },
     "execution_count": 30,
     "metadata": {},
     "output_type": "execute_result"
    }
   ],
   "source": [
    "k.extend(\"ashok\")\n",
    "k"
   ]
  },
  {
   "cell_type": "markdown",
   "id": "c3de1b83",
   "metadata": {},
   "source": [
    "extend works only with iterable object (breakable objects)"
   ]
  },
  {
   "cell_type": "code",
   "execution_count": 32,
   "id": "f20dd3ac",
   "metadata": {},
   "outputs": [
    {
     "data": {
      "text/plain": [
       "4"
      ]
     },
     "execution_count": 32,
     "metadata": {},
     "output_type": "execute_result"
    }
   ],
   "source": [
    "k.index(4)"
   ]
  },
  {
   "cell_type": "code",
   "execution_count": 34,
   "id": "48ead642",
   "metadata": {},
   "outputs": [
    {
     "data": {
      "text/plain": [
       "[1,\n",
       " 2,\n",
       " 3,\n",
       " 'ineuron',\n",
       " 4,\n",
       " 'last',\n",
       " 'last',\n",
       " 'last2',\n",
       " 'last',\n",
       " 'last2',\n",
       " 5,\n",
       " 'ashok',\n",
       " 'ashok',\n",
       " 'a',\n",
       " 's',\n",
       " 'h',\n",
       " 'o',\n",
       " 'k',\n",
       " 'a',\n",
       " 's',\n",
       " 'h',\n",
       " 'o',\n",
       " 'k',\n",
       " 'a',\n",
       " 's',\n",
       " 'h',\n",
       " 'o',\n",
       " 'k']"
      ]
     },
     "execution_count": 34,
     "metadata": {},
     "output_type": "execute_result"
    }
   ],
   "source": [
    "k"
   ]
  },
  {
   "cell_type": "code",
   "execution_count": 38,
   "id": "1fc9b85d",
   "metadata": {},
   "outputs": [
    {
     "data": {
      "text/plain": [
       "8"
      ]
     },
     "execution_count": 38,
     "metadata": {},
     "output_type": "execute_result"
    }
   ],
   "source": [
    "k = [2,3,4,5,6,7,8]\n",
    "k.pop()"
   ]
  },
  {
   "cell_type": "code",
   "execution_count": 40,
   "id": "30e9866a",
   "metadata": {},
   "outputs": [
    {
     "data": {
      "text/plain": [
       "5"
      ]
     },
     "execution_count": 40,
     "metadata": {},
     "output_type": "execute_result"
    }
   ],
   "source": [
    "k.pop(2)"
   ]
  },
  {
   "cell_type": "code",
   "execution_count": 42,
   "id": "8c1f4a76",
   "metadata": {},
   "outputs": [
    {
     "data": {
      "text/plain": [
       "[2, 3, 6, 7]"
      ]
     },
     "execution_count": 42,
     "metadata": {},
     "output_type": "execute_result"
    }
   ],
   "source": [
    "k"
   ]
  },
  {
   "cell_type": "markdown",
   "id": "a85e91ea",
   "metadata": {},
   "source": [
    "pop and remove both removes the data, pop removes based on index if not last. Remove will remove the data based on matching item."
   ]
  },
  {
   "cell_type": "code",
   "execution_count": 44,
   "id": "626dc1bd",
   "metadata": {},
   "outputs": [
    {
     "data": {
      "text/plain": [
       "[2, 3, 6, 7]"
      ]
     },
     "execution_count": 44,
     "metadata": {},
     "output_type": "execute_result"
    }
   ],
   "source": [
    "k"
   ]
  },
  {
   "cell_type": "code",
   "execution_count": 46,
   "id": "3e55117e",
   "metadata": {},
   "outputs": [
    {
     "ename": "ValueError",
     "evalue": "list.remove(x): x not in list",
     "output_type": "error",
     "traceback": [
      "\u001b[1;31m---------------------------------------------------------------------------\u001b[0m",
      "\u001b[1;31mValueError\u001b[0m                                Traceback (most recent call last)",
      "\u001b[1;32m<ipython-input-46-abc7407efb5a>\u001b[0m in \u001b[0;36m<module>\u001b[1;34m\u001b[0m\n\u001b[1;32m----> 1\u001b[1;33m \u001b[0mk\u001b[0m\u001b[1;33m.\u001b[0m\u001b[0mremove\u001b[0m\u001b[1;33m(\u001b[0m\u001b[1;36m3\u001b[0m\u001b[1;33m)\u001b[0m\u001b[1;33m\u001b[0m\u001b[1;33m\u001b[0m\u001b[0m\n\u001b[0m",
      "\u001b[1;31mValueError\u001b[0m: list.remove(x): x not in list"
     ]
    }
   ],
   "source": [
    "k.remove(3)"
   ]
  },
  {
   "cell_type": "code",
   "execution_count": 48,
   "id": "6d6c3d82",
   "metadata": {},
   "outputs": [
    {
     "data": {
      "text/plain": [
       "[2, 6, 7]"
      ]
     },
     "execution_count": 48,
     "metadata": {},
     "output_type": "execute_result"
    }
   ],
   "source": [
    "k"
   ]
  },
  {
   "cell_type": "code",
   "execution_count": 52,
   "id": "cd5b5a0a",
   "metadata": {},
   "outputs": [],
   "source": [
    "k.reverse()"
   ]
  },
  {
   "cell_type": "code",
   "execution_count": 54,
   "id": "649490e7",
   "metadata": {},
   "outputs": [
    {
     "data": {
      "text/plain": [
       "[7, 6, 2]"
      ]
     },
     "execution_count": 54,
     "metadata": {},
     "output_type": "execute_result"
    }
   ],
   "source": [
    "k"
   ]
  },
  {
   "cell_type": "code",
   "execution_count": 57,
   "id": "d95f7870",
   "metadata": {},
   "outputs": [],
   "source": [
    "k.sort()"
   ]
  },
  {
   "cell_type": "code",
   "execution_count": 59,
   "id": "e9e25401",
   "metadata": {},
   "outputs": [
    {
     "data": {
      "text/plain": [
       "[2, 6, 7]"
      ]
     },
     "execution_count": 59,
     "metadata": {},
     "output_type": "execute_result"
    }
   ],
   "source": [
    "k"
   ]
  },
  {
   "cell_type": "code",
   "execution_count": 64,
   "id": "c40f3c86",
   "metadata": {},
   "outputs": [
    {
     "data": {
      "text/plain": [
       "[1, 2, 3, 'string', 4, [5, (6+9j), 5.6, 2, 'x']]"
      ]
     },
     "execution_count": 64,
     "metadata": {},
     "output_type": "execute_result"
    }
   ],
   "source": [
    "l=[1,2,3,\"string\", 4, [5,6+9j, 5.6, 2, \"x\"]]\n",
    "l"
   ]
  },
  {
   "cell_type": "code",
   "execution_count": 66,
   "id": "e7fe0247",
   "metadata": {},
   "outputs": [
    {
     "data": {
      "text/plain": [
       "[1, 2, 'ashok', 'ashok', 3, 'string', 4, [5, (6+9j), 5.6, 2, 'x']]"
      ]
     },
     "execution_count": 66,
     "metadata": {},
     "output_type": "execute_result"
    }
   ],
   "source": [
    "l.insert(2, \"ashok\")\n",
    "l"
   ]
  },
  {
   "cell_type": "code",
   "execution_count": 68,
   "id": "832fc1e8",
   "metadata": {},
   "outputs": [
    {
     "data": {
      "text/plain": [
       "[1,\n",
       " 2,\n",
       " ['str1', 'str2', 'str3'],\n",
       " ['str1', 'str2', 'str3'],\n",
       " 'ashok',\n",
       " 'ashok',\n",
       " 3,\n",
       " 'string',\n",
       " 4,\n",
       " [5, (6+9j), 5.6, 2, 'x']]"
      ]
     },
     "execution_count": 68,
     "metadata": {},
     "output_type": "execute_result"
    }
   ],
   "source": [
    "l.insert(2,[\"str1\", \"str2\", \"str3\"])\n",
    "l"
   ]
  },
  {
   "cell_type": "code",
   "execution_count": 126,
   "id": "07d0dd9b",
   "metadata": {},
   "outputs": [
    {
     "name": "stdout",
     "output_type": "stream",
     "text": [
      "ashok 0\n",
      "A 4\n",
      "ash 0\n",
      "ash1 1\n",
      "ash2 2\n",
      "ash3 3\n"
     ]
    },
    {
     "ename": "TypeError",
     "evalue": "'<' not supported between instances of 'str' and 'int'",
     "output_type": "error",
     "traceback": [
      "\u001b[1;31m---------------------------------------------------------------------------\u001b[0m",
      "\u001b[1;31mTypeError\u001b[0m                                 Traceback (most recent call last)",
      "\u001b[1;32m<ipython-input-126-2b4a74469ed2>\u001b[0m in \u001b[0;36m<module>\u001b[1;34m\u001b[0m\n\u001b[0;32m     11\u001b[0m \u001b[1;32mfor\u001b[0m \u001b[0mi\u001b[0m \u001b[1;32min\u001b[0m \u001b[0ml\u001b[0m\u001b[1;33m:\u001b[0m\u001b[1;33m\u001b[0m\u001b[1;33m\u001b[0m\u001b[0m\n\u001b[0;32m     12\u001b[0m     \u001b[1;32mif\u001b[0m \u001b[0mtype\u001b[0m\u001b[1;33m(\u001b[0m\u001b[0mi\u001b[0m\u001b[1;33m)\u001b[0m \u001b[1;33m==\u001b[0m \u001b[0mlist\u001b[0m\u001b[1;33m:\u001b[0m\u001b[1;33m\u001b[0m\u001b[1;33m\u001b[0m\u001b[0m\n\u001b[1;32m---> 13\u001b[1;33m         \u001b[1;32mwhile\u001b[0m \u001b[0mj\u001b[0m \u001b[1;33m<\u001b[0m \u001b[0mlen\u001b[0m\u001b[1;33m(\u001b[0m\u001b[0mi\u001b[0m\u001b[1;33m)\u001b[0m\u001b[1;33m:\u001b[0m\u001b[1;33m\u001b[0m\u001b[1;33m\u001b[0m\u001b[0m\n\u001b[0m\u001b[0;32m     14\u001b[0m             \u001b[1;32mfor\u001b[0m \u001b[0mj\u001b[0m \u001b[1;32min\u001b[0m \u001b[0mi\u001b[0m\u001b[1;33m:\u001b[0m\u001b[1;33m\u001b[0m\u001b[1;33m\u001b[0m\u001b[0m\n\u001b[0;32m     15\u001b[0m                 \u001b[1;32mif\u001b[0m \u001b[0mtype\u001b[0m\u001b[1;33m(\u001b[0m\u001b[0mj\u001b[0m\u001b[1;33m)\u001b[0m \u001b[1;33m==\u001b[0m \u001b[0mstr\u001b[0m\u001b[1;33m:\u001b[0m\u001b[1;33m\u001b[0m\u001b[1;33m\u001b[0m\u001b[0m\n",
      "\u001b[1;31mTypeError\u001b[0m: '<' not supported between instances of 'str' and 'int'"
     ]
    }
   ],
   "source": [
    "l = [\"ashok\", 23, 34, 4, \"A\", [1,2,3], 32.5, [\"ash\", \"ash1\", \"ash2\", \"ash3\"]]\n",
    "for i in l:\n",
    "    if type(i) == str:\n",
    "        print(i, l.index(i))\n",
    "        #l.remove(i)\n",
    "    if type(i) == list:\n",
    "        for j in i:\n",
    "            if type(j) == str:\n",
    "                #i.remove(j)\n",
    "                print(j, i.index(j))\n",
    "for i in l:\n",
    "    if type(i) == list:\n",
    "        while j < len(i):\n",
    "            for j in i:\n",
    "                if type(j) == str:\n",
    "                    i.remove(j)\n",
    "                    continue \n",
    "                j = j + 1\n",
    "l"
   ]
  },
  {
   "cell_type": "code",
   "execution_count": 95,
   "id": "825fb6b7",
   "metadata": {},
   "outputs": [
    {
     "name": "stdout",
     "output_type": "stream",
     "text": [
      "<class 'str'> ashok\n",
      "<class 'int'> 23\n",
      "<class 'int'> 34\n",
      "<class 'int'> 4\n",
      "<class 'str'> A\n",
      "<class 'list'> [1, 2, 3]\n",
      "<class 'float'> 32.5\n",
      "<class 'list'> ['ash', 'ash1', 'ash2', 'ash3']\n"
     ]
    }
   ],
   "source": [
    "k = [\"ashok\", 23, 34, 4, \"A\", [1,2,3], 32.5, [\"ash\", \"ash1\", \"ash2\", \"ash3\"]]\n",
    "for i in k:\n",
    "    print(type(i), i)#, enumerate(k.index))"
   ]
  },
  {
   "cell_type": "code",
   "execution_count": 127,
   "id": "27c09925",
   "metadata": {},
   "outputs": [
    {
     "name": "stdout",
     "output_type": "stream",
     "text": [
      "4\n",
      "5\n",
      "6\n",
      "7\n",
      "2\n",
      "2\n",
      "[4, 5, 6, 7, 2, 2]\n"
     ]
    }
   ],
   "source": [
    "l=[]\n",
    "for i in range(6):\n",
    "    l.append(int(input()))\n",
    "print(l)"
   ]
  },
  {
   "cell_type": "code",
   "execution_count": 134,
   "id": "9ff84cee",
   "metadata": {},
   "outputs": [
    {
     "name": "stdout",
     "output_type": "stream",
     "text": [
      "str1 0\n",
      "str2 1\n",
      "str3 2\n",
      "m 0\n",
      "n 1\n",
      "o 2\n"
     ]
    },
    {
     "data": {
      "text/plain": [
       "[1, 2, 3, [], 3.4, [], (6+6j)]"
      ]
     },
     "execution_count": 134,
     "metadata": {},
     "output_type": "execute_result"
    }
   ],
   "source": [
    "l = [1, 2, 3, [\"str1\", \"str2\", \"str3\"], 3.4, [\"m\", \"n\", \"o\"], 6+6j ]\n",
    "\n",
    "for i in l:\n",
    "    if type(i) == list:\n",
    "        j = 0\n",
    "        while j < len(i):\n",
    "            if type(i[j]) == str:\n",
    "                print(i[j] , j)\n",
    "            j = j + 1\n",
    "            \n",
    "        j = 0\n",
    "        while j < len(i):\n",
    "            if type(i[j]) == str:\n",
    "                i.remove(i[j])\n",
    "                continue\n",
    "            j = j + 1\n",
    "l\n",
    "                "
   ]
  },
  {
   "cell_type": "code",
   "execution_count": 137,
   "id": "7e861c2b",
   "metadata": {},
   "outputs": [
    {
     "data": {
      "text/plain": [
       "[1, 2, 3, 4, 5, 'ashok', 'a', 's', 'h', 'o', 'k']"
      ]
     },
     "execution_count": 137,
     "metadata": {},
     "output_type": "execute_result"
    }
   ],
   "source": [
    "l1 = [1,2,3,4,5]\n",
    "i= \"ashok\"\n",
    "l1.append(i)\n",
    "l1\n",
    "\n",
    "for j in \"ashok\":\n",
    "    l1.append(j)\n",
    "l1"
   ]
  },
  {
   "cell_type": "code",
   "execution_count": 139,
   "id": "a73c31f0",
   "metadata": {},
   "outputs": [
    {
     "data": {
      "text/plain": [
       "['a', 's', 'h', 'o', 'k']"
      ]
     },
     "execution_count": 139,
     "metadata": {},
     "output_type": "execute_result"
    }
   ],
   "source": [
    "[i for i in \"ashok\"]"
   ]
  },
  {
   "cell_type": "code",
   "execution_count": 141,
   "id": "4bf2df5a",
   "metadata": {},
   "outputs": [
    {
     "data": {
      "text/plain": [
       "[['a'], ['s'], ['h'], ['o'], ['k']]"
      ]
     },
     "execution_count": 141,
     "metadata": {},
     "output_type": "execute_result"
    }
   ],
   "source": [
    "[[i] for i in \"ashok\"]"
   ]
  },
  {
   "cell_type": "code",
   "execution_count": 144,
   "id": "10f7df31",
   "metadata": {},
   "outputs": [
    {
     "data": {
      "text/plain": [
       "[0, 2, 4, 6, 8]"
      ]
     },
     "execution_count": 144,
     "metadata": {},
     "output_type": "execute_result"
    }
   ],
   "source": [
    "l=[]\n",
    "\n",
    "for i in range(10):\n",
    "    if i%2 == 0:\n",
    "        l.append(i)\n",
    "l"
   ]
  },
  {
   "cell_type": "code",
   "execution_count": 146,
   "id": "5527b909",
   "metadata": {},
   "outputs": [
    {
     "data": {
      "text/plain": [
       "[0, 2, 4, 6, 8]"
      ]
     },
     "execution_count": 146,
     "metadata": {},
     "output_type": "execute_result"
    }
   ],
   "source": [
    "[i for i in range(10) if i % 2 == 0]"
   ]
  },
  {
   "cell_type": "code",
   "execution_count": 149,
   "id": "ea444ee3",
   "metadata": {},
   "outputs": [
    {
     "data": {
      "text/plain": [
       "['even', 'odd', 'even', 'odd', 'even', 'odd', 'even', 'odd', 'even', 'odd']"
      ]
     },
     "execution_count": 149,
     "metadata": {},
     "output_type": "execute_result"
    }
   ],
   "source": [
    "l = []\n",
    "for i in range(10):\n",
    "    if i % 2 == 0:\n",
    "        l.append(\"even\")\n",
    "    else: \n",
    "        l.append(\"odd\")\n",
    "l"
   ]
  },
  {
   "cell_type": "code",
   "execution_count": 152,
   "id": "486c7cfe",
   "metadata": {},
   "outputs": [
    {
     "data": {
      "text/plain": [
       "['even', 'odd', 'even', 'odd', 'even', 'odd', 'even', 'odd', 'even', 'odd']"
      ]
     },
     "execution_count": 152,
     "metadata": {},
     "output_type": "execute_result"
    }
   ],
   "source": [
    "[\"odd\" if i % 2 != 0 else \"even\" for i in range(10)]"
   ]
  },
  {
   "cell_type": "code",
   "execution_count": 156,
   "id": "58ce5698",
   "metadata": {},
   "outputs": [
    {
     "data": {
      "text/plain": [
       "[[0, 1, 2], [0, 1, 2], [0, 1, 2]]"
      ]
     },
     "execution_count": 156,
     "metadata": {},
     "output_type": "execute_result"
    }
   ],
   "source": [
    "mat = []\n",
    "\n",
    "for i in range(3):\n",
    "    mat.append([])\n",
    "    for j in range(3):\n",
    "        mat[i].append(j)\n",
    "mat"
   ]
  },
  {
   "cell_type": "code",
   "execution_count": 160,
   "id": "3e13d381",
   "metadata": {},
   "outputs": [
    {
     "data": {
      "text/plain": [
       "[[0, 1, 2], [0, 1, 2], [0, 1, 2]]"
      ]
     },
     "execution_count": 160,
     "metadata": {},
     "output_type": "execute_result"
    }
   ],
   "source": [
    "[[i for i in range(3)] for j in range(3)]"
   ]
  },
  {
   "cell_type": "code",
   "execution_count": 163,
   "id": "7c60f724",
   "metadata": {},
   "outputs": [
    {
     "data": {
      "text/plain": [
       "[[0, 1, 2, 3, 4], [0, 1, 2, 3, 4]]"
      ]
     },
     "execution_count": 163,
     "metadata": {},
     "output_type": "execute_result"
    }
   ],
   "source": [
    "[[i for i in range(5)] for j in range(2)]"
   ]
  },
  {
   "cell_type": "code",
   "execution_count": 172,
   "id": "166d9101",
   "metadata": {},
   "outputs": [
    {
     "data": {
      "text/plain": [
       "[0, 6]"
      ]
     },
     "execution_count": 172,
     "metadata": {},
     "output_type": "execute_result"
    }
   ],
   "source": [
    " \n",
    "\"\"\"l=[]\n",
    "\n",
    "for i in range(8):\n",
    "    if i % 2 == 0:\n",
    "        if i % 3 == 0:\n",
    "            l.append(i)\n",
    "l\"\"\"\n",
    "\n",
    "# equivalent to\n",
    "\n",
    "[i for i in range(8) if i % 2 == 0 if i % 3 == 0]\n"
   ]
  },
  {
   "cell_type": "code",
   "execution_count": 175,
   "id": "641f1602",
   "metadata": {},
   "outputs": [
    {
     "data": {
      "text/plain": [
       "[0, 1, 2, 3, 4, 5, 6, 7, 8, 9]"
      ]
     },
     "execution_count": 175,
     "metadata": {},
     "output_type": "execute_result"
    }
   ],
   "source": [
    "l = []\n",
    "for i in range(10):\n",
    "    l.append(i)\n",
    "l"
   ]
  },
  {
   "cell_type": "code",
   "execution_count": 178,
   "id": "5cca06c9",
   "metadata": {},
   "outputs": [
    {
     "data": {
      "text/plain": [
       "['test', 'yes', 'no', 'test', 'test', 'test', 'test', 'test', 'test', 'test']"
      ]
     },
     "execution_count": 178,
     "metadata": {},
     "output_type": "execute_result"
    }
   ],
   "source": [
    "[\"yes\" if i == 1 else \"no\" if i == 2 else \"test\" for i in l]"
   ]
  },
  {
   "cell_type": "code",
   "execution_count": 180,
   "id": "0eeef310",
   "metadata": {},
   "outputs": [
    {
     "data": {
      "text/plain": [
       "[0, 1, 2, 3, 4, 5, 6, 7, 8, 9]"
      ]
     },
     "execution_count": 180,
     "metadata": {},
     "output_type": "execute_result"
    }
   ],
   "source": [
    "l"
   ]
  },
  {
   "cell_type": "code",
   "execution_count": null,
   "id": "f68e1444",
   "metadata": {},
   "outputs": [],
   "source": []
  }
 ],
 "metadata": {
  "kernelspec": {
   "display_name": "Python 3",
   "language": "python",
   "name": "python3"
  },
  "language_info": {
   "codemirror_mode": {
    "name": "ipython",
    "version": 3
   },
   "file_extension": ".py",
   "mimetype": "text/x-python",
   "name": "python",
   "nbconvert_exporter": "python",
   "pygments_lexer": "ipython3",
   "version": "3.8.8"
  }
 },
 "nbformat": 4,
 "nbformat_minor": 5
}
